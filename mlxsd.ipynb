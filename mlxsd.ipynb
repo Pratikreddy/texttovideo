{
 "cells": [
  {
   "cell_type": "code",
   "execution_count": 2,
   "metadata": {},
   "outputs": [
    {
     "name": "stdout",
     "output_type": "stream",
     "text": [
      "2024-05-06_13-44-24\n",
      "Title: Boat Chronicles: A Journey Through Maritime History\n",
      "Segments: [\n",
      "    {\n",
      "        \"start_time\": 0,\n",
      "        \"end_time\": 6,\n",
      "        \"text_1\": \"From Rafts to Ocean Liners: Tracing the Evolution of Maritime Travel\",\n",
      "        \"visual_prompt_1\": \"In the dawn of civilization, humanity crafted rafts from primitive materials, venturing into the unknown waters of rivers and lakes. These humble vessels, fashioned from woven reeds and animal hides, symbolize our earliest aspirations for exploration and discovery.\"\n",
      "    },\n",
      "    {\n",
      "        \"start_time\": 7,\n",
      "        \"end_time\": 12,\n",
      "        \"text_2\": \"Explorers and Empires: Navigating the High Seas of Medieval Times\",\n",
      "        \"visual_prompt_2\": \"Amidst the tumultuous waves of medieval seas, sturdy galleys and longships carried intrepid explorers to distant shores. These wooden behemoths, powered by the strength of oarsmen and the mercy of the wind, braved storms and conquered new horizons.\"\n",
      "    },\n",
      "    {\n",
      "        \"start_time\": 13,\n",
      "        \"end_time\": 18,\n",
      "        \"text_3\": \"Trade Winds and Tall Ships: Unveiling the Renaissance Maritime Revolution\",\n",
      "        \"visual_prompt_3\": \"As the Renaissance dawned, majestic caravels and galleons unfurled their billowing sails, riding the trade winds to exotic lands. These towering vessels, adorned with intricate carvings and colorful flags, heralded a new age of maritime exploration and commerce.\"\n",
      "    },\n",
      "    {\n",
      "        \"start_time\": 19,\n",
      "        \"end_time\": 24,\n",
      "        \"text_4\": \"Steam and Steel: Embracing Industrial Maritime Innovation\",\n",
      "        \"visual_prompt_4\": \"With the advent of the industrial revolution, ironclad steamships plied the world's oceans, transforming travel and trade. These mighty vessels, propelled by the power of steam and fueled by coal, ushered in an era of global connectivity and economic expansion.\"\n",
      "    },\n",
      "    {\n",
      "        \"start_time\": 25,\n",
      "        \"end_time\": 30,\n",
      "        \"text_5\": \"Modern Marvels: Experiencing Luxury and Adventure on Contemporary Yachts\",\n",
      "        \"visual_prompt_5\": \"In the modern era, sleek yachts and cruise liners epitomize luxury and adventure on the high seas. These floating palaces, equipped with state-of-the-art amenities and cutting-edge technology, offer travelers unparalleled comfort and style as they traverse the world's oceans.\"\n",
      "    },\n",
      "    {\n",
      "        \"start_time\": 31,\n",
      "        \"end_time\": 36,\n",
      "        \"text_6\": \"Exploring the Unknown: Delving into Oceanographic Expeditions\",\n",
      "        \"visual_prompt_6\": \"Beneath the waves, research vessels equipped with advanced sonar and submersibles delve into the mysteries of the deep. These scientific marvels, manned by intrepid explorers and equipped with state-of-the-art equipment, unlock the secrets of the ocean, from uncharted depths to thriving ecosystems.\"\n",
      "    },\n",
      "    {\n",
      "        \"start_time\": 37,\n",
      "        \"end_time\": 42,\n",
      "        \"text_7\": \"Sustainable Solutions: Embracing Eco-Friendly Practices in Boating\",\n",
      "        \"visual_prompt_7\": \"Amid growing environmental concerns, eco-friendly boats harness renewable energy and sustainable materials to navigate the world's waterways. From solar-powered catamarans to wind-propelled schooners, these green vessels pave the way towards a cleaner, greener future for maritime travel.\"\n",
      "    },\n",
      "    {\n",
      "        \"start_time\": 43,\n",
      "        \"end_time\": 48,\n",
      "        \"text_8\": \"Future Frontiers: Envisioning Innovations in Autonomous Shipping\",\n",
      "        \"visual_prompt_8\": \"In the era of automation, autonomous ships equipped with AI and sensors navigate the seas with unparalleled precision and efficiency. These unmanned vessels, guided by artificial intelligence and powered by renewable energy, herald a new chapter in maritime innovation and sustainability.\"\n",
      "    }\n",
      "]\n",
      "['In the dawn of civilization, humanity crafted rafts from primitive materials, venturing into the unknown waters of rivers and lakes. These humble vessels, fashioned from woven reeds and animal hides, symbolize our earliest aspirations for exploration and discovery.', 'Amidst the tumultuous waves of medieval seas, sturdy galleys and longships carried intrepid explorers to distant shores. These wooden behemoths, powered by the strength of oarsmen and the mercy of the wind, braved storms and conquered new horizons.', 'As the Renaissance dawned, majestic caravels and galleons unfurled their billowing sails, riding the trade winds to exotic lands. These towering vessels, adorned with intricate carvings and colorful flags, heralded a new age of maritime exploration and commerce.', \"With the advent of the industrial revolution, ironclad steamships plied the world's oceans, transforming travel and trade. These mighty vessels, propelled by the power of steam and fueled by coal, ushered in an era of global connectivity and economic expansion.\", \"In the modern era, sleek yachts and cruise liners epitomize luxury and adventure on the high seas. These floating palaces, equipped with state-of-the-art amenities and cutting-edge technology, offer travelers unparalleled comfort and style as they traverse the world's oceans.\", 'Beneath the waves, research vessels equipped with advanced sonar and submersibles delve into the mysteries of the deep. These scientific marvels, manned by intrepid explorers and equipped with state-of-the-art equipment, unlock the secrets of the ocean, from uncharted depths to thriving ecosystems.', \"Amid growing environmental concerns, eco-friendly boats harness renewable energy and sustainable materials to navigate the world's waterways. From solar-powered catamarans to wind-propelled schooners, these green vessels pave the way towards a cleaner, greener future for maritime travel.\", 'In the era of automation, autonomous ships equipped with AI and sensors navigate the seas with unparalleled precision and efficiency. These unmanned vessels, guided by artificial intelligence and powered by renewable energy, herald a new chapter in maritime innovation and sustainability.']\n"
     ]
    },
    {
     "name": "stderr",
     "output_type": "stream",
     "text": [
      "sh: python: command not found\n",
      "sh: python: command not found\n",
      "sh: python: command not found\n",
      "sh: python: command not found\n",
      "sh: python: command not found\n",
      "sh: python: command not found\n",
      "sh: python: command not found\n",
      "sh: python: command not found\n"
     ]
    }
   ],
   "source": [
    "from mlxsd_calling import image_generator\n",
    "from moviepy.editor import TextClip, CompositeVideoClip, ImageClip, concatenate_videoclips\n",
    "from gtts import gTTS\n",
    "from datetime import datetime\n",
    "import subprocess\n",
    "import json\n",
    "import os \n",
    "\n",
    "dir_name = datetime.now().strftime(\"%Y-%m-%d_%H-%M-%S\")\n",
    "print(dir_name)\n",
    "os.makedirs(dir_name, exist_ok=True)\n",
    "\n",
    "\n",
    "response = \"\"\"{\n",
    "    \"title\": \"Boat Chronicles: A Journey Through Maritime History\",\n",
    "    \"segments\": [\n",
    "        {\n",
    "            \"start_time\": 0,\n",
    "            \"end_time\": 6,\n",
    "            \"text_1\": \"From Rafts to Ocean Liners: Tracing the Evolution of Maritime Travel\",\n",
    "            \"visual_prompt_1\": \"In the dawn of civilization, humanity crafted rafts from primitive materials, venturing into the unknown waters of rivers and lakes. These humble vessels, fashioned from woven reeds and animal hides, symbolize our earliest aspirations for exploration and discovery.\"\n",
    "        },\n",
    "        {\n",
    "            \"start_time\": 7,\n",
    "            \"end_time\": 12,\n",
    "            \"text_2\": \"Explorers and Empires: Navigating the High Seas of Medieval Times\",\n",
    "            \"visual_prompt_2\":  \"Amidst the tumultuous waves of medieval seas, sturdy galleys and longships carried intrepid explorers to distant shores. These wooden behemoths, powered by the strength of oarsmen and the mercy of the wind, braved storms and conquered new horizons.\"\n",
    "        },\n",
    "        {\n",
    "            \"start_time\": 13,\n",
    "            \"end_time\": 18,\n",
    "            \"text_3\": \"Trade Winds and Tall Ships: Unveiling the Renaissance Maritime Revolution\",\n",
    "            \"visual_prompt_3\":  \"As the Renaissance dawned, majestic caravels and galleons unfurled their billowing sails, riding the trade winds to exotic lands. These towering vessels, adorned with intricate carvings and colorful flags, heralded a new age of maritime exploration and commerce.\"\n",
    "        },\n",
    "        {\n",
    "            \"start_time\": 19,\n",
    "            \"end_time\": 24,\n",
    "            \"text_4\": \"Steam and Steel: Embracing Industrial Maritime Innovation\",\n",
    "            \"visual_prompt_4\":  \"With the advent of the industrial revolution, ironclad steamships plied the world's oceans, transforming travel and trade. These mighty vessels, propelled by the power of steam and fueled by coal, ushered in an era of global connectivity and economic expansion.\"\n",
    "        },\n",
    "        {\n",
    "            \"start_time\": 25,\n",
    "            \"end_time\": 30,\n",
    "            \"text_5\": \"Modern Marvels: Experiencing Luxury and Adventure on Contemporary Yachts\",\n",
    "            \"visual_prompt_5\":  \"In the modern era, sleek yachts and cruise liners epitomize luxury and adventure on the high seas. These floating palaces, equipped with state-of-the-art amenities and cutting-edge technology, offer travelers unparalleled comfort and style as they traverse the world's oceans.\"\n",
    "        },\n",
    "        {\n",
    "            \"start_time\": 31,\n",
    "            \"end_time\": 36,\n",
    "            \"text_6\": \"Exploring the Unknown: Delving into Oceanographic Expeditions\",\n",
    "            \"visual_prompt_6\":  \"Beneath the waves, research vessels equipped with advanced sonar and submersibles delve into the mysteries of the deep. These scientific marvels, manned by intrepid explorers and equipped with state-of-the-art equipment, unlock the secrets of the ocean, from uncharted depths to thriving ecosystems.\"\n",
    "        },\n",
    "        {\n",
    "            \"start_time\": 37,\n",
    "            \"end_time\": 42,\n",
    "            \"text_7\": \"Sustainable Solutions: Embracing Eco-Friendly Practices in Boating\",\n",
    "            \"visual_prompt_7\":  \"Amid growing environmental concerns, eco-friendly boats harness renewable energy and sustainable materials to navigate the world's waterways. From solar-powered catamarans to wind-propelled schooners, these green vessels pave the way towards a cleaner, greener future for maritime travel.\"\n",
    "        },\n",
    "        {\n",
    "            \"start_time\": 43,\n",
    "            \"end_time\": 48,\n",
    "            \"text_8\": \"Future Frontiers: Envisioning Innovations in Autonomous Shipping\",\n",
    "            \"visual_prompt_8\":  \"In the era of automation, autonomous ships equipped with AI and sensors navigate the seas with unparalleled precision and efficiency. These unmanned vessels, guided by artificial intelligence and powered by renewable energy, herald a new chapter in maritime innovation and sustainability.\"\n",
    "        }\n",
    "    ]\n",
    "}\n",
    "\"\"\"\n",
    "\n",
    "content = json.dumps(response)\n",
    "#print (content)\n",
    "response_json = json.loads(response)# Store the title in a variable\n",
    "title = response_json['title']\n",
    "# Store the segments as a list\n",
    "segments = response_json['segments']\n",
    "\n",
    "# Output the stored data\n",
    "print(\"Title:\", title)\n",
    "print(\"Segments:\", json.dumps(segments, indent=4))\n",
    "\n",
    "#store the visual_prompts\n",
    "visual_prompts = [segment[f'visual_prompt_{i+1}'] for i, segment in enumerate(segments)]\n",
    "print(visual_prompts)\n",
    "\n",
    "image_paths = image_generator(prompts=visual_prompts,path=dir_name)\n",
    "#call the img gen func\n",
    "def create_video_clip(image_paths, fixed_duration=6):\n",
    "    clips = [ImageClip(image).set_duration(fixed_duration) for image in image_paths]\n",
    "    return concatenate_videoclips(clips, method=\"compose\")\n",
    "\n",
    "\n",
    "\n",
    "\n",
    "\n",
    "\n"
   ]
  },
  {
   "cell_type": "code",
   "execution_count": 6,
   "metadata": {},
   "outputs": [
    {
     "name": "stderr",
     "output_type": "stream",
     "text": [
      "100%|██████████| 2/2 [00:24<00:00, 12.09s/it]\n",
      "100%|██████████| 1/1 [00:02<00:00,  2.23s/it]\n"
     ]
    },
    {
     "name": "stdout",
     "output_type": "stream",
     "text": [
      "Peak memory used for the unet: 4.372GB\n",
      "Peak memory used overall:      5.635GB\n"
     ]
    },
    {
     "name": "stderr",
     "output_type": "stream",
     "text": [
      "100%|██████████| 2/2 [00:24<00:00, 12.03s/it]\n",
      "100%|██████████| 1/1 [00:02<00:00,  2.11s/it]\n"
     ]
    },
    {
     "name": "stdout",
     "output_type": "stream",
     "text": [
      "Peak memory used for the unet: 4.370GB\n",
      "Peak memory used overall:      5.755GB\n"
     ]
    },
    {
     "name": "stderr",
     "output_type": "stream",
     "text": [
      "100%|██████████| 2/2 [00:25<00:00, 12.80s/it]\n",
      "100%|██████████| 1/1 [00:02<00:00,  2.05s/it]\n"
     ]
    },
    {
     "name": "stdout",
     "output_type": "stream",
     "text": [
      "Peak memory used for the unet: 4.371GB\n",
      "Peak memory used overall:      5.755GB\n",
      "Moviepy - Building video 2024-05-06_17-36-02/initial_video.mp4.\n",
      "Moviepy - Writing video 2024-05-06_17-36-02/initial_video.mp4\n",
      "\n"
     ]
    },
    {
     "name": "stderr",
     "output_type": "stream",
     "text": [
      "                                                               \r"
     ]
    },
    {
     "name": "stdout",
     "output_type": "stream",
     "text": [
      "Moviepy - Done !\n",
      "Moviepy - video ready 2024-05-06_17-36-02/initial_video.mp4\n",
      "Moviepy - Building video 2024-05-06_17-36-02/subtitled_video.mp4.\n",
      "Moviepy - Writing video 2024-05-06_17-36-02/subtitled_video.mp4\n",
      "\n"
     ]
    },
    {
     "name": "stderr",
     "output_type": "stream",
     "text": [
      "                                                               \r"
     ]
    },
    {
     "name": "stdout",
     "output_type": "stream",
     "text": [
      "Moviepy - Done !\n",
      "Moviepy - video ready 2024-05-06_17-36-02/subtitled_video.mp4\n",
      "MoviePy - Writing audio in 2024-05-06_17-36-02/temp_audio/final_audio.mp3\n"
     ]
    },
    {
     "name": "stderr",
     "output_type": "stream",
     "text": [
      "                                                                    "
     ]
    },
    {
     "name": "stdout",
     "output_type": "stream",
     "text": [
      "MoviePy - Done.\n"
     ]
    },
    {
     "name": "stderr",
     "output_type": "stream",
     "text": [
      "ffmpeg version 7.0 Copyright (c) 2000-2024 the FFmpeg developers\n",
      "  built with Apple clang version 15.0.0 (clang-1500.3.9.4)\n",
      "  configuration: --prefix=/opt/homebrew/Cellar/ffmpeg/7.0 --enable-shared --enable-pthreads --enable-version3 --cc=clang --host-cflags= --host-ldflags='-Wl,-ld_classic' --enable-ffplay --enable-gnutls --enable-gpl --enable-libaom --enable-libaribb24 --enable-libbluray --enable-libdav1d --enable-libharfbuzz --enable-libjxl --enable-libmp3lame --enable-libopus --enable-librav1e --enable-librist --enable-librubberband --enable-libsnappy --enable-libsrt --enable-libssh --enable-libsvtav1 --enable-libtesseract --enable-libtheora --enable-libvidstab --enable-libvmaf --enable-libvorbis --enable-libvpx --enable-libwebp --enable-libx264 --enable-libx265 --enable-libxml2 --enable-libxvid --enable-lzma --enable-libfontconfig --enable-libfreetype --enable-frei0r --enable-libass --enable-libopencore-amrnb --enable-libopencore-amrwb --enable-libopenjpeg --enable-libopenvino --enable-libspeex --enable-libsoxr --enable-libzmq --enable-libzimg --disable-libjack --disable-indev=jack --enable-videotoolbox --enable-audiotoolbox --enable-neon\n",
      "  libavutil      59.  8.100 / 59.  8.100\n",
      "  libavcodec     61.  3.100 / 61.  3.100\n",
      "  libavformat    61.  1.100 / 61.  1.100\n",
      "  libavdevice    61.  1.100 / 61.  1.100\n",
      "  libavfilter    10.  1.100 / 10.  1.100\n",
      "  libswscale      8.  1.100 /  8.  1.100\n",
      "  libswresample   5.  1.100 /  5.  1.100\n",
      "  libpostproc    58.  1.100 / 58.  1.100\n",
      "Input #0, mov,mp4,m4a,3gp,3g2,mj2, from '2024-05-06_17-36-02/subtitled_video.mp4':\n",
      "  Metadata:\n",
      "    major_brand     : isom\n",
      "    minor_version   : 512\n",
      "    compatible_brands: isomiso2avc1mp41\n",
      "    encoder         : Lavf61.1.100\n",
      "  Duration: 00:00:18.00, start: 0.000000, bitrate: 106 kb/s\n",
      "  Stream #0:0[0x1](und): Video: h264 (High) (avc1 / 0x31637661), yuv420p(progressive), 528x528, 103 kb/s, 24 fps, 24 tbr, 12288 tbn (default)\n",
      "      Metadata:\n",
      "        handler_name    : VideoHandler\n",
      "        vendor_id       : [0][0][0][0]\n",
      "        encoder         : Lavc61.3.100 libx264\n",
      "Input #1, mp3, from '2024-05-06_17-36-02/temp_audio/final_audio.mp3':\n",
      "  Metadata:\n",
      "    encoder         : Lavf61.1.100\n",
      "  Duration: 00:00:17.37, start: 0.025057, bitrate: 128 kb/s\n",
      "  Stream #1:0: Audio: mp3 (mp3float), 44100 Hz, stereo, fltp, 128 kb/s\n",
      "      Metadata:\n",
      "        encoder         : Lavc61.3.\n",
      "Stream mapping:\n",
      "  Stream #0:0 -> #0:0 (copy)\n",
      "  Stream #1:0 -> #0:1 (mp3 (mp3float) -> aac (native))\n",
      "Press [q] to stop, [?] for help\n",
      "Output #0, mp4, to '2024-05-06_17-36-02/Boat Chronicles: A Journey Through Maritime History_final_with_audio.mp4':\n",
      "  Metadata:\n",
      "    major_brand     : isom\n",
      "    minor_version   : 512\n",
      "    compatible_brands: isomiso2avc1mp41\n",
      "    encoder         : Lavf61.1.100\n",
      "  Stream #0:0(und): Video: h264 (High) (avc1 / 0x31637661), yuv420p(progressive), 528x528, q=2-31, 103 kb/s, 24 fps, 24 tbr, 12288 tbn (default)\n",
      "      Metadata:\n",
      "        handler_name    : VideoHandler\n",
      "        vendor_id       : [0][0][0][0]\n",
      "        encoder         : Lavc61.3.100 libx264\n",
      "  Stream #0:1: Audio: aac (LC) (mp4a / 0x6134706D), 44100 Hz, stereo, fltp, 128 kb/s\n",
      "      Metadata:\n",
      "        encoder         : Lavc61.3.100 aac\n"
     ]
    },
    {
     "name": "stdout",
     "output_type": "stream",
     "text": [
      "Final video with subtitles and audio saved to 2024-05-06_17-36-02/Boat Chronicles: A Journey Through Maritime History_final_with_audio.mp4\n"
     ]
    },
    {
     "name": "stderr",
     "output_type": "stream",
     "text": [
      "[out#0/mp4 @ 0x12df1f780] video:228KiB audio:270KiB subtitle:0KiB other streams:0KiB global headers:0KiB muxing overhead: 2.942469%\n",
      "size=     513KiB time=00:00:17.32 bitrate= 242.4kbits/s speed=47.7x    \n",
      "[aac @ 0x12df20d20] Qavg: 1596.680\n"
     ]
    }
   ],
   "source": [
    "import os\n",
    "import subprocess\n",
    "import json\n",
    "from datetime import datetime\n",
    "from moviepy.editor import ImageClip, concatenate_videoclips, VideoFileClip, CompositeVideoClip, TextClip, concatenate_audioclips, AudioFileClip\n",
    "\n",
    "from audio_generation import generate_audio_clips\n",
    "\n",
    "def image_generator(prompts, dir_path):\n",
    "    generated_image_paths = []\n",
    "    script_path = \"/Users/p/mlx-examples/stable_diffusion/txt2image.py\"\n",
    "    for idx, prompt in enumerate(prompts):\n",
    "        image_name = f\"{dir_path}/image_{idx}.png\"\n",
    "        command = f\"python3 {script_path} --n_images 1 -q -v --output \\\"{image_name}\\\" \\\"{prompt}\\\"\"\n",
    "        os.system(command)\n",
    "        generated_image_paths.append(os.path.abspath(image_name))\n",
    "    return generated_image_paths\n",
    "\n",
    "def create_video_clip(image_paths, dir_path, video_name=\"initial_video\"):\n",
    "    clips = [ImageClip(img).set_duration(6).set_fps(24) for img in image_paths]\n",
    "    final_clip = concatenate_videoclips(clips)\n",
    "    video_path = os.path.join(dir_path, f\"{video_name}.mp4\")\n",
    "    final_clip.write_videofile(video_path, codec='libx264', fps=24)\n",
    "    return video_path\n",
    "\n",
    "def add_subtitles(video_path, segments, output_name=\"subtitled_video\"):\n",
    "    video = VideoFileClip(video_path)\n",
    "    subtitles = [TextClip(seg[f'text_{i+1}'], fontsize=60, color='white', font='Arial', size=(video.size[0]*0.8, None)).set_position('center', 'bottom').set_start(seg['start_time']).set_duration(seg['end_time'] - seg['start_time']) for i, seg in enumerate(segments)]\n",
    "    final_video = CompositeVideoClip([video, *subtitles])\n",
    "    subtitled_video_path = os.path.join(os.path.dirname(video_path), f\"{output_name}.mp4\")\n",
    "    final_video.write_videofile(subtitled_video_path, codec='libx264', fps=24)\n",
    "    return subtitled_video_path\n",
    "\n",
    "def concatenate_audio_files(audio_dir, output_audio):\n",
    "    # List all audio files in the directory and sort them alphabetically\n",
    "    audio_files = sorted(\n",
    "        [os.path.join(audio_dir, file) for file in os.listdir(audio_dir) if file.endswith(\".mp3\")]\n",
    "    )\n",
    "    audio_clips = [AudioFileClip(audio) for audio in audio_files]\n",
    "    final_audio = concatenate_audioclips(audio_clips)\n",
    "    final_audio.write_audiofile(output_audio)\n",
    "    return output_audio\n",
    "\n",
    "def merge_audio_video(video_path, audio_path, final_path):\n",
    "    command = [\n",
    "        'ffmpeg',\n",
    "        '-i', video_path,\n",
    "        '-i', audio_path,\n",
    "        '-c:v', 'copy',\n",
    "        '-c:a', 'aac',\n",
    "        '-strict', 'experimental',\n",
    "        final_path\n",
    "    ]\n",
    "    subprocess.run(command, check=True)\n",
    "\n",
    "dir_name = datetime.now().strftime(\"%Y-%m-%d_%H-%M-%S\")\n",
    "os.makedirs(dir_name, exist_ok=True)\n",
    "response = json.loads(\"\"\"\n",
    "{\n",
    "    \"title\": \"Boat Chronicles: A Journey Through Maritime History\",\n",
    "    \"segments\": [\n",
    "        {\n",
    "            \"start_time\": 0,\n",
    "            \"end_time\": 6,\n",
    "            \"text_1\": \"From Rafts to Ocean Liners: Tracing the Evolution of Maritime Travel\",\n",
    "            \"visual_prompt_1\": \"In the dawn of civilization, humanity crafted rafts from primitive materials, venturing into the unknown waters of rivers and lakes.\"\n",
    "        },\n",
    "        ...\n",
    "    ]\n",
    "}\n",
    "\"\"\")\n",
    "title = response['title']\n",
    "segments = response['segments']\n",
    "\n",
    "visual_prompts = [seg[f'visual_prompt_{i+1}'] for i, seg in enumerate(segments)]\n",
    "image_paths = image_generator(visual_prompts, dir_name)\n",
    "initial_video_path = create_video_clip(image_paths, dir_name)\n",
    "subtitled_video_path = add_subtitles(initial_video_path, segments)\n",
    "\n",
    "temp_audio_dir = os.path.join(dir_name, 'temp_audio')\n",
    "os.makedirs(temp_audio_dir, exist_ok=True)\n",
    "generate_audio_clips(segments, temp_audio_dir)\n",
    "final_audio_path = os.path.join(temp_audio_dir, \"final_audio.mp3\")\n",
    "concatenate_audio_files(temp_audio_dir, final_audio_path)\n",
    "\n",
    "final_video_path = os.path.join(dir_name, f\"{title}_final_with_audio.mp4\")\n",
    "merge_audio_video(subtitled_video_path, final_audio_path, final_video_path)\n",
    "\n",
    "print(f\"Final video with subtitles and audio saved to {final_video_path}\")\n"
   ]
  },
  {
   "cell_type": "code",
   "execution_count": 1,
   "metadata": {},
   "outputs": [
    {
     "name": "stderr",
     "output_type": "stream",
     "text": [
      "100%|██████████| 2/2 [00:28<00:00, 14.02s/it]\n",
      "100%|██████████| 1/1 [00:02<00:00,  2.96s/it]\n"
     ]
    },
    {
     "name": "stdout",
     "output_type": "stream",
     "text": [
      "Peak memory used for the unet: 4.368GB\n",
      "Peak memory used overall:      5.635GB\n"
     ]
    },
    {
     "name": "stderr",
     "output_type": "stream",
     "text": [
      "100%|██████████| 2/2 [00:35<00:00, 17.59s/it]\n",
      "100%|██████████| 1/1 [00:02<00:00,  2.17s/it]\n"
     ]
    },
    {
     "name": "stdout",
     "output_type": "stream",
     "text": [
      "Peak memory used for the unet: 4.374GB\n",
      "Peak memory used overall:      5.755GB\n"
     ]
    },
    {
     "name": "stderr",
     "output_type": "stream",
     "text": [
      "100%|██████████| 2/2 [00:23<00:00, 11.61s/it]\n",
      "100%|██████████| 1/1 [00:02<00:00,  2.16s/it]\n"
     ]
    },
    {
     "name": "stdout",
     "output_type": "stream",
     "text": [
      "Peak memory used for the unet: 4.374GB\n",
      "Peak memory used overall:      5.755GB\n"
     ]
    },
    {
     "name": "stderr",
     "output_type": "stream",
     "text": [
      "100%|██████████| 2/2 [00:29<00:00, 14.56s/it]\n",
      "100%|██████████| 1/1 [00:02<00:00,  2.41s/it]\n"
     ]
    },
    {
     "name": "stdout",
     "output_type": "stream",
     "text": [
      "Peak memory used for the unet: 4.370GB\n",
      "Peak memory used overall:      5.755GB\n"
     ]
    },
    {
     "name": "stderr",
     "output_type": "stream",
     "text": [
      "100%|██████████| 2/2 [00:32<00:00, 16.34s/it]\n",
      "100%|██████████| 1/1 [00:03<00:00,  3.92s/it]\n"
     ]
    },
    {
     "name": "stdout",
     "output_type": "stream",
     "text": [
      "Peak memory used for the unet: 4.372GB\n",
      "Peak memory used overall:      5.635GB\n"
     ]
    },
    {
     "name": "stderr",
     "output_type": "stream",
     "text": [
      "100%|██████████| 2/2 [00:29<00:00, 14.54s/it]\n",
      "100%|██████████| 1/1 [00:02<00:00,  2.04s/it]\n"
     ]
    },
    {
     "name": "stdout",
     "output_type": "stream",
     "text": [
      "Peak memory used for the unet: 4.372GB\n",
      "Peak memory used overall:      5.755GB\n"
     ]
    },
    {
     "name": "stderr",
     "output_type": "stream",
     "text": [
      "100%|██████████| 2/2 [00:35<00:00, 17.71s/it]\n",
      "100%|██████████| 1/1 [00:02<00:00,  2.11s/it]\n"
     ]
    },
    {
     "name": "stdout",
     "output_type": "stream",
     "text": [
      "Peak memory used for the unet: 4.373GB\n",
      "Peak memory used overall:      5.755GB\n"
     ]
    },
    {
     "name": "stderr",
     "output_type": "stream",
     "text": [
      "100%|██████████| 2/2 [00:30<00:00, 15.19s/it]\n",
      "100%|██████████| 1/1 [00:02<00:00,  2.47s/it]\n"
     ]
    },
    {
     "name": "stdout",
     "output_type": "stream",
     "text": [
      "Peak memory used for the unet: 4.368GB\n",
      "Peak memory used overall:      5.755GB\n"
     ]
    },
    {
     "name": "stderr",
     "output_type": "stream",
     "text": [
      "100%|██████████| 2/2 [00:37<00:00, 18.83s/it]\n",
      "100%|██████████| 1/1 [00:02<00:00,  2.06s/it]\n"
     ]
    },
    {
     "name": "stdout",
     "output_type": "stream",
     "text": [
      "Peak memory used for the unet: 4.374GB\n",
      "Peak memory used overall:      5.755GB\n"
     ]
    },
    {
     "name": "stderr",
     "output_type": "stream",
     "text": [
      "100%|██████████| 2/2 [00:36<00:00, 18.15s/it]\n",
      "100%|██████████| 1/1 [00:02<00:00,  2.08s/it]\n"
     ]
    },
    {
     "name": "stdout",
     "output_type": "stream",
     "text": [
      "Peak memory used for the unet: 4.368GB\n",
      "Peak memory used overall:      5.755GB\n",
      "Moviepy - Building video 2024-05-10_13-12-53/initial_video.mp4.\n",
      "Moviepy - Writing video 2024-05-10_13-12-53/initial_video.mp4\n",
      "\n"
     ]
    },
    {
     "name": "stderr",
     "output_type": "stream",
     "text": [
      "                                                                 \r"
     ]
    },
    {
     "name": "stdout",
     "output_type": "stream",
     "text": [
      "Moviepy - Done !\n",
      "Moviepy - video ready 2024-05-10_13-12-53/initial_video.mp4\n"
     ]
    },
    {
     "ename": "OSError",
     "evalue": "MoviePy Error: creation of None failed because of the following error:\n\nconvert: label expected `@/var/folders/fv/jwp74dtx06d1pgzj3sqsnmb80000gn/T/tmp8tg2prhz.txt' @ error/annotate.c/GetMultilineTypeMetrics/804.\nconvert: no images defined `PNG32:/var/folders/fv/jwp74dtx06d1pgzj3sqsnmb80000gn/T/tmpfla3g_wu.png' @ error/convert.c/ConvertImageCommand/3362.\n.\n\n.This error can be due to the fact that ImageMagick is not installed on your computer, or (for Windows users) that you didn't specify the path to the ImageMagick binary in file conf.py, or that the path you specified is incorrect",
     "output_type": "error",
     "traceback": [
      "\u001b[0;31m---------------------------------------------------------------------------\u001b[0m",
      "\u001b[0;31mOSError\u001b[0m                                   Traceback (most recent call last)",
      "File \u001b[0;32m/Library/Frameworks/Python.framework/Versions/3.11/lib/python3.11/site-packages/moviepy/video/VideoClip.py:1137\u001b[0m, in \u001b[0;36mTextClip.__init__\u001b[0;34m(self, txt, filename, size, color, bg_color, fontsize, font, stroke_color, stroke_width, method, kerning, align, interline, tempfilename, temptxt, transparent, remove_temp, print_cmd)\u001b[0m\n\u001b[1;32m   1136\u001b[0m \u001b[38;5;28;01mtry\u001b[39;00m:\n\u001b[0;32m-> 1137\u001b[0m     \u001b[43msubprocess_call\u001b[49m\u001b[43m(\u001b[49m\u001b[43mcmd\u001b[49m\u001b[43m,\u001b[49m\u001b[43m \u001b[49m\u001b[43mlogger\u001b[49m\u001b[38;5;241;43m=\u001b[39;49m\u001b[38;5;28;43;01mNone\u001b[39;49;00m\u001b[43m)\u001b[49m\n\u001b[1;32m   1138\u001b[0m \u001b[38;5;28;01mexcept\u001b[39;00m (\u001b[38;5;167;01mIOError\u001b[39;00m, \u001b[38;5;167;01mOSError\u001b[39;00m) \u001b[38;5;28;01mas\u001b[39;00m err:\n",
      "File \u001b[0;32m/Library/Frameworks/Python.framework/Versions/3.11/lib/python3.11/site-packages/moviepy/tools.py:54\u001b[0m, in \u001b[0;36msubprocess_call\u001b[0;34m(cmd, logger, errorprint)\u001b[0m\n\u001b[1;32m     53\u001b[0m         logger(message\u001b[38;5;241m=\u001b[39m\u001b[38;5;124m'\u001b[39m\u001b[38;5;124mMoviepy - Command returned an error\u001b[39m\u001b[38;5;124m'\u001b[39m)\n\u001b[0;32m---> 54\u001b[0m     \u001b[38;5;28;01mraise\u001b[39;00m \u001b[38;5;167;01mIOError\u001b[39;00m(err\u001b[38;5;241m.\u001b[39mdecode(\u001b[38;5;124m'\u001b[39m\u001b[38;5;124mutf8\u001b[39m\u001b[38;5;124m'\u001b[39m))\n\u001b[1;32m     55\u001b[0m \u001b[38;5;28;01melse\u001b[39;00m:\n",
      "\u001b[0;31mOSError\u001b[0m: convert: label expected `@/var/folders/fv/jwp74dtx06d1pgzj3sqsnmb80000gn/T/tmp8tg2prhz.txt' @ error/annotate.c/GetMultilineTypeMetrics/804.\nconvert: no images defined `PNG32:/var/folders/fv/jwp74dtx06d1pgzj3sqsnmb80000gn/T/tmpfla3g_wu.png' @ error/convert.c/ConvertImageCommand/3362.\n",
      "\nDuring handling of the above exception, another exception occurred:\n",
      "\u001b[0;31mOSError\u001b[0m                                   Traceback (most recent call last)",
      "Cell \u001b[0;32mIn[1], line 152\u001b[0m\n\u001b[1;32m    150\u001b[0m image_paths \u001b[38;5;241m=\u001b[39m image_generator(visual_prompts, dir_name)\n\u001b[1;32m    151\u001b[0m initial_video_path \u001b[38;5;241m=\u001b[39m create_video_clip(image_paths, dir_name)\n\u001b[0;32m--> 152\u001b[0m subtitled_video_path \u001b[38;5;241m=\u001b[39m \u001b[43madd_subtitles\u001b[49m\u001b[43m(\u001b[49m\u001b[43minitial_video_path\u001b[49m\u001b[43m,\u001b[49m\u001b[43m \u001b[49m\u001b[43msegments\u001b[49m\u001b[43m)\u001b[49m\n\u001b[1;32m    154\u001b[0m temp_audio_dir \u001b[38;5;241m=\u001b[39m os\u001b[38;5;241m.\u001b[39mpath\u001b[38;5;241m.\u001b[39mjoin(dir_name, \u001b[38;5;124m'\u001b[39m\u001b[38;5;124mtemp_audio\u001b[39m\u001b[38;5;124m'\u001b[39m)\n\u001b[1;32m    155\u001b[0m os\u001b[38;5;241m.\u001b[39mmakedirs(temp_audio_dir, exist_ok\u001b[38;5;241m=\u001b[39m\u001b[38;5;28;01mTrue\u001b[39;00m)\n",
      "Cell \u001b[0;32mIn[1], line 35\u001b[0m, in \u001b[0;36madd_subtitles\u001b[0;34m(video_path, segments, output_name)\u001b[0m\n\u001b[1;32m     32\u001b[0m end_time \u001b[38;5;241m=\u001b[39m segment\u001b[38;5;241m.\u001b[39mget(\u001b[38;5;124m'\u001b[39m\u001b[38;5;124mend_time\u001b[39m\u001b[38;5;124m'\u001b[39m, start_time \u001b[38;5;241m+\u001b[39m \u001b[38;5;241m5\u001b[39m)  \u001b[38;5;66;03m# Default duration 5 seconds\u001b[39;00m\n\u001b[1;32m     34\u001b[0m \u001b[38;5;66;03m# Creating the subtitle clip\u001b[39;00m\n\u001b[0;32m---> 35\u001b[0m subtitle_clip \u001b[38;5;241m=\u001b[39m \u001b[43mTextClip\u001b[49m\u001b[43m(\u001b[49m\n\u001b[1;32m     36\u001b[0m \u001b[43m    \u001b[49m\u001b[43mtext\u001b[49m\u001b[43m,\u001b[49m\u001b[43m \u001b[49m\u001b[43mfontsize\u001b[49m\u001b[38;5;241;43m=\u001b[39;49m\u001b[38;5;241;43m30\u001b[39;49m\u001b[43m,\u001b[49m\u001b[43m \u001b[49m\u001b[43mcolor\u001b[49m\u001b[38;5;241;43m=\u001b[39;49m\u001b[38;5;124;43m'\u001b[39;49m\u001b[38;5;124;43mwhite\u001b[39;49m\u001b[38;5;124;43m'\u001b[39;49m\u001b[43m,\u001b[49m\u001b[43m \u001b[49m\u001b[43mfont\u001b[49m\u001b[38;5;241;43m=\u001b[39;49m\u001b[38;5;124;43m'\u001b[39;49m\u001b[38;5;124;43mArial\u001b[39;49m\u001b[38;5;124;43m'\u001b[39;49m\u001b[43m,\u001b[49m\n\u001b[1;32m     37\u001b[0m \u001b[43m    \u001b[49m\u001b[43msize\u001b[49m\u001b[38;5;241;43m=\u001b[39;49m\u001b[43m(\u001b[49m\u001b[43mvideo\u001b[49m\u001b[38;5;241;43m.\u001b[39;49m\u001b[43msize\u001b[49m\u001b[43m[\u001b[49m\u001b[38;5;241;43m0\u001b[39;49m\u001b[43m]\u001b[49m\u001b[43m \u001b[49m\u001b[38;5;241;43m*\u001b[39;49m\u001b[43m \u001b[49m\u001b[38;5;241;43m0.8\u001b[39;49m\u001b[43m,\u001b[49m\u001b[43m \u001b[49m\u001b[38;5;28;43;01mNone\u001b[39;49;00m\u001b[43m)\u001b[49m\u001b[43m,\u001b[49m\u001b[43m  \u001b[49m\u001b[38;5;66;43;03m# Set width to 80% of the video width\u001b[39;49;00m\n\u001b[1;32m     38\u001b[0m \u001b[43m    \u001b[49m\u001b[43mmethod\u001b[49m\u001b[38;5;241;43m=\u001b[39;49m\u001b[38;5;124;43m'\u001b[39;49m\u001b[38;5;124;43mcaption\u001b[39;49m\u001b[38;5;124;43m'\u001b[39;49m\u001b[43m,\u001b[49m\u001b[43m \u001b[49m\u001b[43malign\u001b[49m\u001b[38;5;241;43m=\u001b[39;49m\u001b[38;5;124;43m'\u001b[39;49m\u001b[38;5;124;43mSouth\u001b[39;49m\u001b[38;5;124;43m'\u001b[39;49m\u001b[43m,\u001b[49m\u001b[43m \u001b[49m\u001b[43mstroke_color\u001b[49m\u001b[38;5;241;43m=\u001b[39;49m\u001b[38;5;124;43m'\u001b[39;49m\u001b[38;5;124;43mblack\u001b[39;49m\u001b[38;5;124;43m'\u001b[39;49m\u001b[43m,\u001b[49m\u001b[43m \u001b[49m\u001b[43mstroke_width\u001b[49m\u001b[38;5;241;43m=\u001b[39;49m\u001b[38;5;241;43m0.7\u001b[39;49m\n\u001b[1;32m     39\u001b[0m \u001b[43m\u001b[49m\u001b[43m)\u001b[49m\n\u001b[1;32m     41\u001b[0m \u001b[38;5;66;03m# Set subtitle clip start and duration times\u001b[39;00m\n\u001b[1;32m     42\u001b[0m subtitle_clip \u001b[38;5;241m=\u001b[39m subtitle_clip\u001b[38;5;241m.\u001b[39mset_start(start_time)\u001b[38;5;241m.\u001b[39mset_duration(end_time \u001b[38;5;241m-\u001b[39m start_time)\n",
      "File \u001b[0;32m/Library/Frameworks/Python.framework/Versions/3.11/lib/python3.11/site-packages/moviepy/video/VideoClip.py:1146\u001b[0m, in \u001b[0;36mTextClip.__init__\u001b[0;34m(self, txt, filename, size, color, bg_color, fontsize, font, stroke_color, stroke_width, method, kerning, align, interline, tempfilename, temptxt, transparent, remove_temp, print_cmd)\u001b[0m\n\u001b[1;32m   1138\u001b[0m \u001b[38;5;28;01mexcept\u001b[39;00m (\u001b[38;5;167;01mIOError\u001b[39;00m, \u001b[38;5;167;01mOSError\u001b[39;00m) \u001b[38;5;28;01mas\u001b[39;00m err:\n\u001b[1;32m   1139\u001b[0m     error \u001b[38;5;241m=\u001b[39m (\u001b[38;5;124m\"\u001b[39m\u001b[38;5;124mMoviePy Error: creation of \u001b[39m\u001b[38;5;132;01m%s\u001b[39;00m\u001b[38;5;124m failed because of the \u001b[39m\u001b[38;5;124m\"\u001b[39m\n\u001b[1;32m   1140\u001b[0m              \u001b[38;5;124m\"\u001b[39m\u001b[38;5;124mfollowing error:\u001b[39m\u001b[38;5;130;01m\\n\u001b[39;00m\u001b[38;5;130;01m\\n\u001b[39;00m\u001b[38;5;132;01m%s\u001b[39;00m\u001b[38;5;124m.\u001b[39m\u001b[38;5;130;01m\\n\u001b[39;00m\u001b[38;5;130;01m\\n\u001b[39;00m\u001b[38;5;124m.\u001b[39m\u001b[38;5;124m\"\u001b[39m \u001b[38;5;241m%\u001b[39m (filename, \u001b[38;5;28mstr\u001b[39m(err))\n\u001b[1;32m   1141\u001b[0m              \u001b[38;5;241m+\u001b[39m (\u001b[38;5;124m\"\u001b[39m\u001b[38;5;124mThis error can be due to the fact that ImageMagick \u001b[39m\u001b[38;5;124m\"\u001b[39m\n\u001b[0;32m   (...)\u001b[0m\n\u001b[1;32m   1144\u001b[0m                 \u001b[38;5;124m\"\u001b[39m\u001b[38;5;124mImageMagick binary in file conf.py, or that the path \u001b[39m\u001b[38;5;124m\"\u001b[39m\n\u001b[1;32m   1145\u001b[0m                 \u001b[38;5;124m\"\u001b[39m\u001b[38;5;124myou specified is incorrect\u001b[39m\u001b[38;5;124m\"\u001b[39m))\n\u001b[0;32m-> 1146\u001b[0m     \u001b[38;5;28;01mraise\u001b[39;00m \u001b[38;5;167;01mIOError\u001b[39;00m(error)\n\u001b[1;32m   1148\u001b[0m ImageClip\u001b[38;5;241m.\u001b[39m\u001b[38;5;21m__init__\u001b[39m(\u001b[38;5;28mself\u001b[39m, tempfilename, transparent\u001b[38;5;241m=\u001b[39mtransparent)\n\u001b[1;32m   1149\u001b[0m \u001b[38;5;28mself\u001b[39m\u001b[38;5;241m.\u001b[39mtxt \u001b[38;5;241m=\u001b[39m txt\n",
      "\u001b[0;31mOSError\u001b[0m: MoviePy Error: creation of None failed because of the following error:\n\nconvert: label expected `@/var/folders/fv/jwp74dtx06d1pgzj3sqsnmb80000gn/T/tmp8tg2prhz.txt' @ error/annotate.c/GetMultilineTypeMetrics/804.\nconvert: no images defined `PNG32:/var/folders/fv/jwp74dtx06d1pgzj3sqsnmb80000gn/T/tmpfla3g_wu.png' @ error/convert.c/ConvertImageCommand/3362.\n.\n\n.This error can be due to the fact that ImageMagick is not installed on your computer, or (for Windows users) that you didn't specify the path to the ImageMagick binary in file conf.py, or that the path you specified is incorrect"
     ]
    }
   ],
   "source": [
    "import os\n",
    "import subprocess\n",
    "import json\n",
    "from datetime import datetime\n",
    "from moviepy.editor import ImageClip, concatenate_videoclips, VideoFileClip, CompositeVideoClip, TextClip, concatenate_audioclips, AudioFileClip\n",
    "\n",
    "from audio_generation import generate_audio_clips\n",
    "\n",
    "def image_generator(prompts, dir_path):\n",
    "    generated_image_paths = []\n",
    "    script_path = \"/Users/p/mlx-examples/stable_diffusion/txt2image.py\"\n",
    "    for idx, prompt in enumerate(prompts):\n",
    "        image_name = f\"{dir_path}/image_{idx}.png\"\n",
    "        command = f\"python3 {script_path} --n_images 1 -q -v --output \\\"{image_name}\\\" \\\"{prompt}\\\"\"\n",
    "        os.system(command)\n",
    "        generated_image_paths.append(os.path.abspath(image_name))\n",
    "    return generated_image_paths\n",
    "\n",
    "def create_video_clip(image_paths, dir_path, video_name=\"initial_video\"):\n",
    "    clips = [ImageClip(img).set_duration(5).set_fps(24) for img in image_paths]\n",
    "    final_clip = concatenate_videoclips(clips)\n",
    "    video_path = os.path.join(dir_path, f\"{video_name}.mp4\")\n",
    "    final_clip.write_videofile(video_path, codec='libx264', fps=24)\n",
    "    return video_path\n",
    "\n",
    "def add_subtitles(video_path, segments, output_name=\"subtitled_video\"):\n",
    "    video = VideoFileClip(video_path)\n",
    "    composite_clips = [video]  # Start with the main video clip\n",
    "    for idx, segment in enumerate(segments):\n",
    "        text = segment.get(f'text_{idx+1}', '')  # Extract text\n",
    "        start_time = segment.get('start_time', 0)\n",
    "        end_time = segment.get('end_time', start_time + 5)  # Default duration 5 seconds\n",
    "\n",
    "        # Creating the subtitle clip\n",
    "        subtitle_clip = TextClip(\n",
    "            text, fontsize=30, color='white', font='Arial',\n",
    "            size=(video.size[0] * 0.8, None),  # Set width to 80% of the video width\n",
    "            method='caption', align='South', stroke_color='black', stroke_width=0.7\n",
    "        )\n",
    "\n",
    "        # Set subtitle clip start and duration times\n",
    "        subtitle_clip = subtitle_clip.set_start(start_time).set_duration(end_time - start_time)\n",
    "\n",
    "        # Set position to center and make sure it maintains 10% margin\n",
    "        subtitle_clip = subtitle_clip.set_position(('center', 'bottom'))  # horizontal, vertical\n",
    "\n",
    "        composite_clips.append(subtitle_clip)\n",
    "        print(\"Subtitle added for segment\", idx + 1)\n",
    "\n",
    "    final_video = CompositeVideoClip(composite_clips)\n",
    "    subtitled_video_path = os.path.join(os.path.dirname(video_path), f\"{output_name}.mp4\")\n",
    "    final_video.write_videofile(subtitled_video_path, codec='libx264', fps=24)\n",
    "    return subtitled_video_path\n",
    "\n",
    "def concatenate_audio_files(audio_dir, output_audio):\n",
    "    # List all audio files in the directory and sort them alphabetically\n",
    "    audio_files = sorted(\n",
    "        [os.path.join(audio_dir, file) for file in os.listdir(audio_dir) if file.endswith(\".mp3\")]\n",
    "    )\n",
    "    audio_clips = [AudioFileClip(audio) for audio in audio_files]\n",
    "    final_audio = concatenate_audioclips(audio_clips)\n",
    "    final_audio.write_audiofile(output_audio)\n",
    "    return output_audio\n",
    "\n",
    "def merge_audio_video(video_path, audio_path, final_path):\n",
    "    command = [\n",
    "        'ffmpeg',\n",
    "        '-i', video_path,\n",
    "        '-i', audio_path,\n",
    "        '-c:v', 'copy',\n",
    "        '-c:a', 'aac',\n",
    "        '-strict', 'experimental',\n",
    "        final_path\n",
    "    ]\n",
    "    subprocess.run(command, check=True)\n",
    "\n",
    "dir_name = datetime.now().strftime(\"%Y-%m-%d_%H-%M-%S\")\n",
    "os.makedirs(dir_name, exist_ok=True)\n",
    "response = json.loads(\"\"\"{\n",
    "    \"title\": \"The Southwestern Trade Winds: A Source of Life for India\",\n",
    "    \"segments\": [\n",
    "        {\n",
    "            \"start_time\": 0,\n",
    "            \"end_time\": 5,\n",
    "            \"audio_1\": \"Originating from the vast expanse of the Indian Ocean.\",\n",
    "            \"visual_prompt_1\": \"Setting: Wide shot of the Indian Ocean under a clear blue sky. Background: Gentle waves roll across the horizon, stretching as far as the eye can see.\"\n",
    "        },\n",
    "        {\n",
    "            \"start_time\": 5,\n",
    "            \"end_time\": 10,\n",
    "            \"audio_2\": \"The Southwestern Trade Winds are a crucial atmospheric phenomenon.\",\n",
    "            \"visual_prompt_2\": \"Setting: Atmospheric shot of swirling clouds above the ocean. Background: Clouds form intricate patterns, hinting at the forces at play in the atmosphere.\"\n",
    "        },\n",
    "        {\n",
    "            \"start_time\": 10,\n",
    "            \"end_time\": 15,\n",
    "            \"audio_3\": \"Responsible for the monsoon season in India.\",\n",
    "            \"visual_prompt_3\": \"Setting: Dramatic shot of lightning illuminating the night sky over a tropical landscape. Background: Rain pours down in sheets, drenching the earth below.\"\n",
    "        },\n",
    "        {\n",
    "            \"start_time\": 15,\n",
    "            \"end_time\": 20,\n",
    "            \"audio_4\": \"Driven by the temperature difference between the Indian subcontinent and the surrounding ocean waters.\",\n",
    "            \"visual_prompt_4\": \"Setting: Split-screen showing hot land and cool ocean waters. Background: Heatwaves shimmer over the land, while gentle ripples move across the ocean's surface.\"\n",
    "        },\n",
    "        {\n",
    "            \"start_time\": 20,\n",
    "            \"end_time\": 25,\n",
    "            \"audio_5\": \"During the summer months, the land heats up faster than the ocean.\",\n",
    "            \"visual_prompt_5\": \"Setting: Time-lapse of the sun beating down on the Indian subcontinent. Background: Temperature gauges rise steadily as the sun reaches its peak.\"\n",
    "        },\n",
    "        {\n",
    "            \"start_time\": 25,\n",
    "            \"end_time\": 30,\n",
    "            \"audio_6\": \"Creating a low-pressure area over the Indian subcontinent.\",\n",
    "            \"visual_prompt_6\": \"Setting: Map overlay showing low-pressure system forming over India. Background: Arrows indicate the movement of air as pressure drops over the land.\"\n",
    "        },\n",
    "        {\n",
    "            \"start_time\": 30,\n",
    "            \"end_time\": 35,\n",
    "            \"audio_7\": \"Moist air from the ocean is drawn inland.\",\n",
    "            \"visual_prompt_7\": \"Setting: Animation of moisture-laden air currents moving towards land. Background: Waves of mist flow over the ocean's surface, heading towards the coast.\"\n",
    "        },\n",
    "        {\n",
    "            \"start_time\": 35,\n",
    "            \"end_time\": 40,\n",
    "            \"audio_8\": \"Bringing heavy rainfall to the region.\",\n",
    "            \"visual_prompt_8\": \"Setting: Time-lapse of rain clouds gathering over the Indian landscape. Background: Thunder rumbles as dark clouds gather, heralding the arrival of the monsoon.\"\n",
    "        },\n",
    "        {\n",
    "            \"start_time\": 40,\n",
    "            \"end_time\": 45,\n",
    "            \"audio_9\": \"This annual cycle of wind and rain is essential for agriculture and sustenance in India.\",\n",
    "            \"visual_prompt_9\": \"Setting: Montage of agricultural scenes during the monsoon season. Background: Fields of lush green crops sway in the wind, nourished by the rains.\"\n",
    "        },\n",
    "        {\n",
    "            \"start_time\": 45,\n",
    "            \"end_time\": 50,\n",
    "            \"audio_10\": \"Shaping its cultural and economic landscape.\",\n",
    "            \"visual_prompt_10\": \"Setting: Collage of Indian cultural and economic activities. Background: Scenes of bustling markets, vibrant festivals, and thriving industries showcase the impact of the monsoon on Indian life.\"\n",
    "        }\n",
    "    ]\n",
    "}\n",
    "\n",
    "\"\"\")\n",
    "title = response['title']\n",
    "segments = response['segments']\n",
    "\n",
    "visual_prompts = [seg[f'visual_prompt_{i+1}'] for i, seg in enumerate(segments)]\n",
    "image_paths = image_generator(visual_prompts, dir_name)\n",
    "initial_video_path = create_video_clip(image_paths, dir_name)\n",
    "subtitled_video_path = add_subtitles(initial_video_path, segments)\n",
    "\n",
    "temp_audio_dir = os.path.join(dir_name, 'temp_audio')\n",
    "os.makedirs(temp_audio_dir, exist_ok=True)\n",
    "generate_audio_clips(segments, temp_audio_dir)\n",
    "final_audio_path = os.path.join(temp_audio_dir, \"final_audio.mp3\")\n",
    "concatenate_audio_files(temp_audio_dir, final_audio_path)\n",
    "\n",
    "final_video_path = os.path.join(dir_name, f\"{title}_final_with_audio.mp4\")\n",
    "merge_audio_video(subtitled_video_path, final_audio_path, final_video_path)\n",
    "\n",
    "print(f\"Final video with subtitles and audio saved to {final_video_path}\")\n"
   ]
  }
 ],
 "metadata": {
  "kernelspec": {
   "display_name": "Python 3",
   "language": "python",
   "name": "python3"
  },
  "language_info": {
   "codemirror_mode": {
    "name": "ipython",
    "version": 3
   },
   "file_extension": ".py",
   "mimetype": "text/x-python",
   "name": "python",
   "nbconvert_exporter": "python",
   "pygments_lexer": "ipython3",
   "version": "3.11.3"
  }
 },
 "nbformat": 4,
 "nbformat_minor": 2
}
